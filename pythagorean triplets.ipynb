{
 "cells": [
  {
   "cell_type": "code",
   "execution_count": 1,
   "metadata": {},
   "outputs": [],
   "source": [
    "def triplets(lower, upper):\n",
    "    for a in range (lower, upper):\n",
    "        for b in range (lower, upper):\n",
    "            for c in range (lower, upper):\n",
    "                if (a**2) + (b**2) == c**2 and a!=0 and b!=0 and c!=0:\n",
    "                     x = print(f\"base = {a} units, height = {b} units and hypotenuse = {c}units. are pythagorean triplets\")\n",
    "                else:\n",
    "                    pass\n",
    "    return x"
   ]
  },
  {
   "cell_type": "code",
   "execution_count": 2,
   "metadata": {},
   "outputs": [
    {
     "name": "stdout",
     "output_type": "stream",
     "text": [
      "base = 3 units, height = 4 units and hypotenuse = 5units. are pythagorean triplets\n",
      "base = 4 units, height = 3 units and hypotenuse = 5units. are pythagorean triplets\n",
      "base = 5 units, height = 12 units and hypotenuse = 13units. are pythagorean triplets\n",
      "base = 6 units, height = 8 units and hypotenuse = 10units. are pythagorean triplets\n",
      "base = 8 units, height = 6 units and hypotenuse = 10units. are pythagorean triplets\n",
      "base = 8 units, height = 15 units and hypotenuse = 17units. are pythagorean triplets\n",
      "base = 9 units, height = 12 units and hypotenuse = 15units. are pythagorean triplets\n",
      "base = 12 units, height = 5 units and hypotenuse = 13units. are pythagorean triplets\n",
      "base = 12 units, height = 9 units and hypotenuse = 15units. are pythagorean triplets\n",
      "base = 15 units, height = 8 units and hypotenuse = 17units. are pythagorean triplets\n"
     ]
    }
   ],
   "source": [
    "triplets(0, 20)"
   ]
  },
  {
   "cell_type": "code",
   "execution_count": null,
   "metadata": {},
   "outputs": [],
   "source": []
  }
 ],
 "metadata": {
  "kernelspec": {
   "display_name": "Python 3",
   "language": "python",
   "name": "python3"
  },
  "language_info": {
   "codemirror_mode": {
    "name": "ipython",
    "version": 3
   },
   "file_extension": ".py",
   "mimetype": "text/x-python",
   "name": "python",
   "nbconvert_exporter": "python",
   "pygments_lexer": "ipython3",
   "version": "3.8.5"
  }
 },
 "nbformat": 4,
 "nbformat_minor": 4
}
