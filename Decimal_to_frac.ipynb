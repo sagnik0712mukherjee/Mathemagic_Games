{
 "cells": [
  {
   "cell_type": "code",
   "execution_count": 19,
   "metadata": {},
   "outputs": [],
   "source": [
    "def decimal(num):\n",
    "    ls = []\n",
    "    s = str(num)\n",
    "    splits = s.split('.')\n",
    "    numer = int(10 ** len(splits[1]) * num)\n",
    "    denom = int(10 ** len(splits[1]))\n",
    "    if numer > denom:\n",
    "        for i in range(1, numer):\n",
    "            if numer % i == 0 and denom % i == 0:\n",
    "                ls.append(i)\n",
    "            else:\n",
    "                pass\n",
    "    elif denom > numer:\n",
    "        for i in range(1, denom):\n",
    "            if numer % i == 0 and denom % i == 0:\n",
    "                ls.append(i)\n",
    "            else:\n",
    "                pass\n",
    "    else:\n",
    "        pass\n",
    "    frac = print(f'{int(numer/ls[-1])}/{int(denom/ls[-1])}')\n",
    "    return frac"
   ]
  },
  {
   "cell_type": "code",
   "execution_count": 20,
   "metadata": {},
   "outputs": [
    {
     "name": "stdout",
     "output_type": "stream",
     "text": [
      "4623/100\n"
     ]
    }
   ],
   "source": [
    "decimal(46.23)"
   ]
  },
  {
   "cell_type": "code",
   "execution_count": 21,
   "metadata": {},
   "outputs": [
    {
     "name": "stdout",
     "output_type": "stream",
     "text": [
      "5/4\n"
     ]
    }
   ],
   "source": [
    "decimal(1.25)"
   ]
  },
  {
   "cell_type": "code",
   "execution_count": 22,
   "metadata": {},
   "outputs": [
    {
     "name": "stdout",
     "output_type": "stream",
     "text": [
      "7/10\n"
     ]
    }
   ],
   "source": [
    "decimal(0.7)"
   ]
  },
  {
   "cell_type": "code",
   "execution_count": 23,
   "metadata": {},
   "outputs": [
    {
     "name": "stdout",
     "output_type": "stream",
     "text": [
      "1/4\n"
     ]
    }
   ],
   "source": [
    "decimal(0.25)"
   ]
  },
  {
   "cell_type": "code",
   "execution_count": 24,
   "metadata": {},
   "outputs": [
    {
     "name": "stdout",
     "output_type": "stream",
     "text": [
      "233/25\n"
     ]
    }
   ],
   "source": [
    "decimal(9.32)"
   ]
  },
  {
   "cell_type": "markdown",
   "metadata": {},
   "source": [
    "## YAYYYYYY...!!"
   ]
  }
 ],
 "metadata": {
  "kernelspec": {
   "display_name": "Python 3",
   "language": "python",
   "name": "python3"
  },
  "language_info": {
   "codemirror_mode": {
    "name": "ipython",
    "version": 3
   },
   "file_extension": ".py",
   "mimetype": "text/x-python",
   "name": "python",
   "nbconvert_exporter": "python",
   "pygments_lexer": "ipython3",
   "version": "3.8.5"
  }
 },
 "nbformat": 4,
 "nbformat_minor": 4
}
