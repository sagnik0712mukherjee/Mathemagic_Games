{
 "cells": [
  {
   "cell_type": "code",
   "execution_count": 1,
   "metadata": {},
   "outputs": [],
   "source": [
    "import random\n",
    "def game(user, user_name):\n",
    "    #i = 1\n",
    "    vals = ['stone', 'paper', 'scissor']\n",
    "    #for runs in range(0,4)\n",
    "    ind = random.randint(0,len(vals)-1)\n",
    "    cpu = str(vals[ind])\n",
    "    if user == cpu:\n",
    "        result = print(\"IT's A DRAWWWW!!!\")\n",
    "    elif user == 'stone' and cpu == 'paper':\n",
    "        result = print(f\"CPU wins :-( ! CPU's choice was {cpu}...\")\n",
    "    elif user == 'stone' and cpu == 'scissor':\n",
    "        result = print(f\"{user_name} wins :-D ! CPU's choice was {cpu}...\")\n",
    "    elif user == 'paper' and cpu == 'scissor':\n",
    "        result = print(f\"CPU wins :-( ! CPU's choice was {cpu}...\")\n",
    "    elif user == 'paper' and cpu == 'stone':\n",
    "        result = print(f\"{user_name} wins :-D ! CPU's choice was {cpu}...\")\n",
    "    elif user == 'scissor' and cpu == 'stone':\n",
    "        result = print(f\"CPU wins :-( ! CPU's choice was {cpu}...\")\n",
    "    elif user == 'scissor' and cpu == 'paper':\n",
    "        result = print(f\"{user_name} wins :-D ! CPU's choice was {cpu}...\")\n",
    "    else:\n",
    "        result = print(\"Invalid input!\")\n",
    "    return result"
   ]
  },
  {
   "cell_type": "code",
   "execution_count": 2,
   "metadata": {},
   "outputs": [
    {
     "name": "stdout",
     "output_type": "stream",
     "text": [
      "Enter your choice: paper\n",
      "What's your name mate? Shaggy\n",
      "CPU wins :-( ! CPU's choice was scissor...\n"
     ]
    }
   ],
   "source": [
    "y = input('Enter your choice: ')\n",
    "name = input(\"What's your name mate? \")\n",
    "game(y, name)"
   ]
  }
 ],
 "metadata": {
  "kernelspec": {
   "display_name": "Python 3",
   "language": "python",
   "name": "python3"
  },
  "language_info": {
   "codemirror_mode": {
    "name": "ipython",
    "version": 3
   },
   "file_extension": ".py",
   "mimetype": "text/x-python",
   "name": "python",
   "nbconvert_exporter": "python",
   "pygments_lexer": "ipython3",
   "version": "3.8.5"
  }
 },
 "nbformat": 4,
 "nbformat_minor": 4
}
