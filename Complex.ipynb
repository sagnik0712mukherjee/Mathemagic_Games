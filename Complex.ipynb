{
 "cells": [
  {
   "cell_type": "code",
   "execution_count": 8,
   "metadata": {},
   "outputs": [],
   "source": [
    "#Define some random complex numbers....\n",
    "\n",
    "z1 = '2 + 12i'\n",
    "z2 = '-5 + 8i'\n",
    "z3 = '1 - 2i'\n",
    "z4 = '-3 - 6i'\n",
    "z5 = '1 + i'\n",
    "z6 = '1 - i'"
   ]
  },
  {
   "cell_type": "code",
   "execution_count": 9,
   "metadata": {},
   "outputs": [],
   "source": [
    "#Separating real and imaginary parts...\n",
    "\n",
    "def real_im(z):\n",
    "    s = str(z)\n",
    "    s = s.replace('j','i') #If any number is expressed as j instead of i...\n",
    "    if ' - ' in s:\n",
    "        ls = s.split(' - ')\n",
    "        re = ls[0]\n",
    "        im = ls[1].replace('i', '')\n",
    "        im = '-' + im\n",
    "        if im == '':\n",
    "            im = '1'\n",
    "        elif im == '-':\n",
    "            im = '-1'\n",
    "        else:\n",
    "            pass\n",
    "    elif ' + ' in s:\n",
    "        ls = s.split(' + ')\n",
    "        re = ls[0]\n",
    "        im = ls[1].replace('i', '')\n",
    "        if im == '':\n",
    "            im = '1'\n",
    "        else:\n",
    "            pass\n",
    "    else:\n",
    "        pass\n",
    "    return print(f'The complex number is {z} where the Real part is {re} and Imaginary part is {im}')"
   ]
  },
  {
   "cell_type": "code",
   "execution_count": 10,
   "metadata": {},
   "outputs": [
    {
     "name": "stdout",
     "output_type": "stream",
     "text": [
      "The complex number is 2 + 12i where the Real part is 2 and Imaginary part is 12\n"
     ]
    }
   ],
   "source": [
    "real_im(z1)"
   ]
  },
  {
   "cell_type": "code",
   "execution_count": 11,
   "metadata": {},
   "outputs": [
    {
     "name": "stdout",
     "output_type": "stream",
     "text": [
      "The complex number is -5 + 8i where the Real part is -5 and Imaginary part is 8\n"
     ]
    }
   ],
   "source": [
    "real_im(z2)"
   ]
  },
  {
   "cell_type": "code",
   "execution_count": 12,
   "metadata": {},
   "outputs": [
    {
     "name": "stdout",
     "output_type": "stream",
     "text": [
      "The complex number is 1 - 2i where the Real part is 1 and Imaginary part is -2\n"
     ]
    }
   ],
   "source": [
    "real_im(z3)"
   ]
  },
  {
   "cell_type": "code",
   "execution_count": 13,
   "metadata": {
    "scrolled": true
   },
   "outputs": [
    {
     "name": "stdout",
     "output_type": "stream",
     "text": [
      "The complex number is -3 - 6i where the Real part is -3 and Imaginary part is -6\n"
     ]
    }
   ],
   "source": [
    "real_im(z4)"
   ]
  },
  {
   "cell_type": "code",
   "execution_count": 14,
   "metadata": {},
   "outputs": [
    {
     "name": "stdout",
     "output_type": "stream",
     "text": [
      "The complex number is 1 + i where the Real part is 1 and Imaginary part is 1\n"
     ]
    }
   ],
   "source": [
    "real_im(z5)"
   ]
  },
  {
   "cell_type": "code",
   "execution_count": 15,
   "metadata": {},
   "outputs": [
    {
     "name": "stdout",
     "output_type": "stream",
     "text": [
      "The complex number is 1 - i where the Real part is 1 and Imaginary part is -1\n"
     ]
    }
   ],
   "source": [
    "real_im(z6)"
   ]
  },
  {
   "cell_type": "code",
   "execution_count": 16,
   "metadata": {},
   "outputs": [],
   "source": [
    "#Adding, Subtracting, Multiplying and dividing complex numbers...\n",
    "\n",
    "def complex_math_ops(z1, z2):\n",
    "    s1 = str(z1)\n",
    "    s2 = str(z2)\n",
    "    if ' - ' in s1:\n",
    "        l1 = s1.split(' - ')\n",
    "        re1 = float(l1[0])\n",
    "        im = l1[1].replace('i','')\n",
    "        if im == '':\n",
    "            im = '1'\n",
    "        else:\n",
    "            pass\n",
    "        im1 = -float(im)\n",
    "    elif ' + ' in s1:\n",
    "        l1 = s1.split(' + ')\n",
    "        re1 = float(l1[0])\n",
    "        im = l1[1].replace('i','')\n",
    "        if im == '':\n",
    "            im = '1'\n",
    "        else:\n",
    "            pass\n",
    "        im1 = float(im)\n",
    "    if ' - ' in s2:\n",
    "        l2 = s2.split(' - ')\n",
    "        re2 = float(l2[0])\n",
    "        im = l2[1].replace('i','')\n",
    "        if im == '':\n",
    "            im = '1'\n",
    "        else:\n",
    "            pass\n",
    "        im2 = -float(im)\n",
    "    elif ' + ' in s2:\n",
    "        l2 = s2.split(' + ')\n",
    "        re2 = float(l2[0])\n",
    "        im = l2[1].replace('i','')\n",
    "        if im == '':\n",
    "            im = '1'\n",
    "        else:\n",
    "            pass\n",
    "        im2 = float(im)\n",
    "    \n",
    "    add = f'{re1 + re2} + {im1 + im2}i'\n",
    "    sub = f'{re1 - re2} + {im1 - im2}i'\n",
    "    mul = f'{re1*re2 + (-im1)*im2} + {(re1*im2)+(re2*im1)}i'\n",
    "    div = f'{((re1*re2) + (-im1)*(-im2))/(re2**2) + (im2**2)} + {((re1*(-im2))+(re2*im1))/(re2**2) + (im2**2)}i'\n",
    "    return {'Sum': add, 'Difference': sub, 'Product': mul, 'Ratio': div}"
   ]
  },
  {
   "cell_type": "code",
   "execution_count": 17,
   "metadata": {},
   "outputs": [
    {
     "data": {
      "text/plain": [
       "{'Sum': '2.0 + 0.0i',\n",
       " 'Difference': '0.0 + 2.0i',\n",
       " 'Product': '2.0 + 0.0i',\n",
       " 'Ratio': '1.0 + 3.0i'}"
      ]
     },
     "execution_count": 17,
     "metadata": {},
     "output_type": "execute_result"
    }
   ],
   "source": [
    "complex_math_ops(z5, z6)"
   ]
  },
  {
   "cell_type": "code",
   "execution_count": 18,
   "metadata": {},
   "outputs": [
    {
     "data": {
      "text/plain": [
       "{'Sum': '3.0 + 11.0i',\n",
       " 'Difference': '1.0 + 13.0i',\n",
       " 'Product': '14.0 + 10.0i',\n",
       " 'Ratio': '-9.0 + 15.0i'}"
      ]
     },
     "execution_count": 18,
     "metadata": {},
     "output_type": "execute_result"
    }
   ],
   "source": [
    "complex_math_ops(z1, z6)"
   ]
  }
 ],
 "metadata": {
  "kernelspec": {
   "display_name": "Python 3",
   "language": "python",
   "name": "python3"
  },
  "language_info": {
   "codemirror_mode": {
    "name": "ipython",
    "version": 3
   },
   "file_extension": ".py",
   "mimetype": "text/x-python",
   "name": "python",
   "nbconvert_exporter": "python",
   "pygments_lexer": "ipython3",
   "version": "3.8.5"
  }
 },
 "nbformat": 4,
 "nbformat_minor": 4
}
